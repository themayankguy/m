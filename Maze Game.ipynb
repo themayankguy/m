{
 "cells": [
  {
   "cell_type": "markdown",
   "id": "789bbd6b-7407-4e43-8a3f-e47f8f1fcb0d",
   "metadata": {},
   "source": [
    "# GAME"
   ]
  },
  {
   "cell_type": "markdown",
   "id": "120cae28-01cf-47a4-810a-5458ddc62e31",
   "metadata": {},
   "source": [
    "PLAYER PLAYS"
   ]
  },
  {
   "cell_type": "code",
   "execution_count": 62,
   "id": "fd976858-5374-48b8-b6e0-7f692e3787b8",
   "metadata": {},
   "outputs": [
    {
     "ename": "SystemExit",
     "evalue": "",
     "output_type": "error",
     "traceback": [
      "An exception has occurred, use %tb to see the full traceback.\n",
      "\u001b[1;31mSystemExit\u001b[0m\n"
     ]
    }
   ],
   "source": [
    "import pygame, sys, random\n",
    "\n",
    "pygame.init()\n",
    "screen = pygame.display.set_mode((500, 500))\n",
    "clock = pygame.time.Clock()\n",
    "\n",
    "# Larger 10x10 maze (1 = wall, 0 = path)\n",
    "maze = [\n",
    "    [1,1,1,1,1,1,1,1,1,1],\n",
    "    [1,0,0,0,1,0,0,0,0,1],\n",
    "    [1,0,1,0,1,0,1,1,0,1],\n",
    "    [1,0,1,0,0,0,0,1,0,1],\n",
    "    [1,0,1,1,1,1,0,1,0,1],\n",
    "    [1,0,0,0,0,1,0,0,0,1],\n",
    "    [1,1,1,1,0,1,1,1,0,1],\n",
    "    [1,0,0,1,0,0,0,1,0,1],\n",
    "    [1,0,0,0,0,1,0,0,0,1],\n",
    "    [1,1,1,1,1,1,1,1,1,1]\n",
    "]\n",
    "\n",
    "start = (1, 1)\n",
    "end = (8, 8)\n",
    "player = pygame.Rect(start[1] * 50, start[0] * 50, 50, 50)\n",
    "\n",
    "# Check if a move is valid\n",
    "def is_valid_move(maze, x, y):\n",
    "    if 0 <= x < len(maze[0]) and 0 <= y < len(maze) and maze[y][x] == 0:\n",
    "        return True\n",
    "    return False\n",
    "\n",
    "while True:\n",
    "    for event in pygame.event.get():\n",
    "        if event.type == pygame.QUIT:\n",
    "            pygame.quit()\n",
    "            sys.exit()\n",
    "\n",
    "    keys = pygame.key.get_pressed()\n",
    "    x, y = player.x // 50, player.y // 50\n",
    "\n",
    "    if keys[pygame.K_UP] and is_valid_move(maze, x, y - 1):\n",
    "        player.y -= 50\n",
    "    if keys[pygame.K_DOWN] and is_valid_move(maze, x, y + 1):\n",
    "        player.y += 50\n",
    "    if keys[pygame.K_LEFT] and is_valid_move(maze, x - 1, y):\n",
    "        player.x -= 50\n",
    "    if keys[pygame.K_RIGHT] and is_valid_move(maze, x + 1, y):\n",
    "        player.x += 50\n",
    "\n",
    "    screen.fill((255, 255, 255))\n",
    "    \n",
    "    # Draw maze\n",
    "    for y, row in enumerate(maze):\n",
    "        for x, cell in enumerate(row):\n",
    "            color = (0, 0, 0) if cell == 1 else (200, 200, 200)\n",
    "            pygame.draw.rect(screen, color, (x * 50, y * 50, 50, 50))\n",
    "\n",
    "    pygame.draw.rect(screen, (0, 255, 0), (end[1] * 50, end[0] * 50, 50, 50))  # Goal\n",
    "    pygame.draw.rect(screen, (255, 0, 0), player)  # Player\n",
    "\n",
    "    if (player.y // 50, player.x // 50) == end:\n",
    "        print(\"You Win!\")\n",
    "        pygame.quit()\n",
    "        sys.exit()\n",
    "\n",
    "    pygame.display.flip()\n",
    "    clock.tick(10)\n"
   ]
  },
  {
   "cell_type": "markdown",
   "id": "d735e946-643e-43f8-b382-5e87a17afd91",
   "metadata": {},
   "source": [
    "AI PLAYS"
   ]
  },
  {
   "cell_type": "code",
   "execution_count": 61,
   "id": "5e6775fa-1d8b-4a08-a813-07aa134e0ee4",
   "metadata": {},
   "outputs": [
    {
     "name": "stdout",
     "output_type": "stream",
     "text": [
      "AI Wins!\n"
     ]
    },
    {
     "ename": "SystemExit",
     "evalue": "",
     "output_type": "error",
     "traceback": [
      "An exception has occurred, use %tb to see the full traceback.\n",
      "\u001b[1;31mSystemExit\u001b[0m\n"
     ]
    }
   ],
   "source": [
    "import pygame, sys\n",
    "from collections import deque\n",
    "\n",
    "# Initialize Pygame\n",
    "pygame.init()\n",
    "screen = pygame.display.set_mode((500, 500))\n",
    "clock = pygame.time.Clock()\n",
    "\n",
    "# Simple 10x10 maze (1 = wall, 0 = path)\n",
    "maze = [\n",
    "    [1,1,1,1,1,1,1,1,1,1],\n",
    "    [1,0,0,0,1,0,0,0,0,1],\n",
    "    [1,0,1,0,1,0,1,1,0,1],\n",
    "    [1,0,1,0,0,0,0,1,0,1],\n",
    "    [1,0,1,1,1,1,0,1,0,1],\n",
    "    [1,0,0,0,0,1,0,0,0,1],\n",
    "    [1,1,1,1,0,1,1,1,0,1],\n",
    "    [1,0,0,1,0,0,0,1,0,1],\n",
    "    [1,0,0,0,0,1,0,0,0,1],\n",
    "    [1,1,1,1,1,1,1,1,1,1]\n",
    "]\n",
    "\n",
    "# Start, End, and Player Initialization\n",
    "start, end = (1, 1), (8, 8)\n",
    "player = pygame.Rect(start[1] * 50, start[0] * 50, 50, 50)\n",
    "\n",
    "# BFS Algorithm to find the shortest path\n",
    "def bfs(maze, start, end):\n",
    "    queue = deque([(start, [])])\n",
    "    visited = set([start])\n",
    "\n",
    "    while queue:\n",
    "        (r, c), path = queue.popleft()\n",
    "        if (r, c) == end:\n",
    "            return path + [(r, c)]\n",
    "\n",
    "        for dr, dc in [(0,1), (0,-1), (1,0), (-1,0)]:  # Directions: R, L, D, U\n",
    "            nr, nc = r + dr, c + dc\n",
    "            if (0 <= nr < len(maze) and 0 <= nc < len(maze[0]) \n",
    "                and maze[nr][nc] == 0 and (nr, nc) not in visited):\n",
    "                queue.append(((nr, nc), path + [(r, c)]))\n",
    "                visited.add((nr, nc))\n",
    "    return []\n",
    "\n",
    "# Find the path using BFS\n",
    "path = bfs(maze, start, end)\n",
    "\n",
    "# Game Loop\n",
    "while True:\n",
    "    for event in pygame.event.get():\n",
    "        if event.type == pygame.QUIT:\n",
    "            pygame.quit()\n",
    "            sys.exit()\n",
    "\n",
    "    # Draw Maze\n",
    "    screen.fill((255, 255, 255))\n",
    "    for y, row in enumerate(maze):\n",
    "        for x, cell in enumerate(row):\n",
    "            color = (0, 0, 0) if cell == 1 else (200, 200, 200)\n",
    "            pygame.draw.rect(screen, color, (x * 50, y * 50, 50, 50))\n",
    "    \n",
    "    # Draw Player and Goal\n",
    "    pygame.draw.rect(screen, (0, 255, 0), (end[1] * 50, end[0] * 50, 50, 50))\n",
    "    pygame.draw.rect(screen, (255, 0, 0), player)\n",
    "\n",
    "    # Move Player along the BFS path\n",
    "    if path:\n",
    "        next_pos = path.pop(0)\n",
    "        player.topleft = (next_pos[1] * 50, next_pos[0] * 50)\n",
    "\n",
    "    # Win Condition\n",
    "    if (player.y // 50, player.x // 50) == end:\n",
    "        print(\"AI Wins!\")\n",
    "        pygame.quit()\n",
    "        sys.exit()\n",
    "\n",
    "    pygame.display.flip()\n",
    "    clock.tick(5)\n"
   ]
  },
  {
   "cell_type": "markdown",
   "id": "57ad7f5f-d467-4f3c-953b-b3c34e48ff9c",
   "metadata": {},
   "source": [
    "## MATRIX FORM"
   ]
  },
  {
   "cell_type": "code",
   "execution_count": 55,
   "id": "e0ff8d0e-2d30-4def-a6f4-06b71173c009",
   "metadata": {},
   "outputs": [
    {
     "name": "stdout",
     "output_type": "stream",
     "text": [
      "[(0, 0), (0, 1), (0, 2), (1, 2), (2, 2), (3, 2)]\n"
     ]
    }
   ],
   "source": [
    "###MATRIX FORM\n",
    "from collections import deque\n",
    "\n",
    "def bfs_maze_solver(maze, start, end):\n",
    "    rows, cols = len(maze), len(maze[0])\n",
    "    queue = deque([(start[0], start[1], [])])  # (row, col, path)\n",
    "    visited = set()\n",
    "\n",
    "    while queue!=[]:\n",
    "        r, c, path = queue.popleft()\n",
    "\n",
    "        # If goal is reached, return the path\n",
    "        if (r, c) == end:\n",
    "            return path + [(r, c)]\n",
    "\n",
    "        # Mark node as visited\n",
    "        if (r, c) in visited:\n",
    "            continue\n",
    "        else:\n",
    "            visited.add((r, c))\n",
    "            \n",
    "\n",
    "        # Explore neighbors\n",
    "        for dr, dc in [(0,1), (0,-1), (1,0), (-1,0)]:\n",
    "            nr= r + dr \n",
    "            nc= c + dc\n",
    "            if 0 <= nr < rows and 0 <= nc < cols and maze[nr][nc] == 0:\n",
    "                queue.append((nr, nc, path + [(r, c)]))\n",
    "    return None  # No path found\n",
    "\n",
    "# Example usage\n",
    "maze = [\n",
    "    [0, 0, 0, 0],\n",
    "    [0, 1, 0, 0],\n",
    "    [1, 0, 0, 0],\n",
    "    [0, 1, 0, 1]\n",
    "]\n",
    "start = (0, 0)\n",
    "end = (3, 2)\n",
    "\n",
    "print(bfs_maze_solver(maze, start, end))"
   ]
  },
  {
   "cell_type": "code",
   "execution_count": 56,
   "id": "f90e6f11-46d7-41b7-9473-66a2a834c892",
   "metadata": {},
   "outputs": [
    {
     "name": "stdout",
     "output_type": "stream",
     "text": [
      "[(1, 1), (1, 2), (1, 3), (2, 3), (3, 3), (3, 4), (3, 5), (3, 6), (4, 6), (5, 6), (5, 7), (5, 8), (6, 8), (7, 8), (8, 8)]\n"
     ]
    }
   ],
   "source": [
    "from collections import deque\n",
    "\n",
    "def bfs_maze_solver(maze, start, end):\n",
    "    rows, cols = len(maze), len(maze[0])\n",
    "    queue = deque([(start[0], start[1], [])])  # (row, col, path)\n",
    "    visited = set()\n",
    "\n",
    "    while queue!=[]:\n",
    "        r, c, path = queue.popleft()\n",
    "\n",
    "        # If goal is reached, return the path\n",
    "        if (r, c) == end:\n",
    "            return path + [(r, c)]\n",
    "\n",
    "        # Mark node as visited\n",
    "        if (r, c) in visited:\n",
    "            continue\n",
    "        else:\n",
    "            visited.add((r, c))\n",
    "            \n",
    "\n",
    "        # Explore neighbors\n",
    "        for dr, dc in [(0,1), (0,-1), (1,0), (-1,0)]:\n",
    "            nr= r + dr \n",
    "            nc= c + dc\n",
    "            if 0 <= nr < rows and 0 <= nc < cols and maze[nr][nc] == 0:\n",
    "                queue.append((nr, nc, path + [(r, c)]))\n",
    "    return None  # No path found\n",
    "\n",
    "# Example usage\n",
    "maze = [\n",
    "    [1,1,1,1,1,1,1,1,1,1],\n",
    "    [1,0,0,0,1,0,0,0,0,1],\n",
    "    [1,0,1,0,1,0,1,1,0,1],\n",
    "    [1,0,1,0,0,0,0,1,0,1],\n",
    "    [1,0,1,1,1,1,0,1,0,1],\n",
    "    [1,0,0,0,0,1,0,0,0,1],\n",
    "    [1,1,1,1,0,1,1,1,0,1],\n",
    "    [1,0,0,1,0,0,0,1,0,1],\n",
    "    [1,0,0,0,0,1,0,0,0,1],\n",
    "    [1,1,1,1,1,1,1,1,1,1]\n",
    "]\n",
    "start = (1, 1)\n",
    "end = (8, 8)\n",
    "\n",
    "print(bfs_maze_solver(maze, start, end))"
   ]
  },
  {
   "cell_type": "code",
   "execution_count": null,
   "id": "592eefad-742f-4a40-9d75-39d7ac61a1e1",
   "metadata": {},
   "outputs": [],
   "source": []
  }
 ],
 "metadata": {
  "kernelspec": {
   "display_name": "Python 3 (ipykernel)",
   "language": "python",
   "name": "python3"
  },
  "language_info": {
   "codemirror_mode": {
    "name": "ipython",
    "version": 3
   },
   "file_extension": ".py",
   "mimetype": "text/x-python",
   "name": "python",
   "nbconvert_exporter": "python",
   "pygments_lexer": "ipython3",
   "version": "3.11.3"
  }
 },
 "nbformat": 4,
 "nbformat_minor": 5
}
